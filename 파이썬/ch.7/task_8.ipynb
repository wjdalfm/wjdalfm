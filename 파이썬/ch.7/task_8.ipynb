{
 "cells": [
  {
   "cell_type": "markdown",
   "metadata": {},
   "source": [
    "여러분이 자주 사용하는 수학적 연산<br>\n",
    "(예: 삼각형 넓이, 원의 넓이, 직육면체의 넓이)을 수행하는 함수들을 포함하는 mymath.py라는 이름의 모듈을 만드세요. \n",
    "\n",
    "이 모듈을 사용하여 작성된 함수들을 실제로 임포트하고 사용하는 간단한 프로그램을 작성하세요."
   ]
  },
  {
   "cell_type": "markdown",
   "metadata": {},
   "source": []
  },
  {
   "metadata": {
    "ExecuteTime": {
     "end_time": "2024-10-23T01:06:18.003443Z",
     "start_time": "2024-10-23T01:06:17.994855Z"
    }
   },
   "cell_type": "code",
   "source": [
    "#mymath.py 파일 생성\n",
    "def triangle_area(base, height):\n",
    "    return 0.5 * base * height\n",
    "\n",
    "def circle_area(radius):\n",
    "    return math.pi * radius ** 2\n",
    "\n",
    "def cuboid_area(length, width, height):\n",
    "    return 2 * (length * width + width * height + height * length)\n"
   ],
   "outputs": [],
   "execution_count": 1
  },
  {
   "metadata": {
    "ExecuteTime": {
     "end_time": "2024-10-23T01:06:23.077333Z",
     "start_time": "2024-10-23T01:06:23.058772Z"
    }
   },
   "cell_type": "code",
   "source": [
    "from mymath import average, median, std_dev\n",
    "\n",
    "numbers = [1, 2, 3, 4, 5]\n",
    "\n",
    "triangle_area(3, 10)\n",
    "print(\"삼각형의 넓이:\", triangle_area(base, height))\n",
    "\n",
    "circle_area(4)\n",
    "print(\"원의 넓이:\", circle_area(radius))\n",
    "\n",
    "cuboid_area(5, 10, 4)\n",
    "print(\"직육면체 넓이:\", cuboid_area(length, width, height))"
   ],
   "outputs": [
    {
     "ename": "ModuleNotFoundError",
     "evalue": "No module named 'mymath'",
     "output_type": "error",
     "traceback": [
      "\u001B[0;31m---------------------------------------------------------------------------\u001B[0m",
      "\u001B[0;31mModuleNotFoundError\u001B[0m                       Traceback (most recent call last)",
      "Cell \u001B[0;32mIn[3], line 1\u001B[0m\n\u001B[0;32m----> 1\u001B[0m \u001B[38;5;28;01mfrom\u001B[39;00m \u001B[38;5;21;01mmymath\u001B[39;00m \u001B[38;5;28;01mimport\u001B[39;00m average, median, std_dev\n\u001B[1;32m      3\u001B[0m numbers \u001B[38;5;241m=\u001B[39m [\u001B[38;5;241m1\u001B[39m, \u001B[38;5;241m2\u001B[39m, \u001B[38;5;241m3\u001B[39m, \u001B[38;5;241m4\u001B[39m, \u001B[38;5;241m5\u001B[39m]\n\u001B[1;32m      5\u001B[0m triangle_area(\u001B[38;5;241m3\u001B[39m, \u001B[38;5;241m10\u001B[39m)\n",
      "\u001B[0;31mModuleNotFoundError\u001B[0m: No module named 'mymath'"
     ]
    }
   ],
   "execution_count": 3
  }
 ],
 "metadata": {
  "language_info": {
   "name": "python"
  },
  "kernelspec": {
   "name": "python3",
   "language": "python",
   "display_name": "Python 3 (ipykernel)"
  }
 },
 "nbformat": 4,
 "nbformat_minor": 2
}

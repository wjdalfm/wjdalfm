{
 "cells": [
  {
   "cell_type": "markdown",
   "metadata": {},
   "source": [
    "[문제]\n",
    "\n",
    "'Book' 클래스를 선언하세요. \n",
    "\n",
    "이 클래스는 title (제목)과 author (저자) 두 개의 속성을 갖습니다. \n",
    "\n",
    "__str__ 특수 메소드를 오버라이드하여, 객체를 문자열로 변환할 때 \"제목: [title], 저자: [author]\" 형식의 문자열을 반환하도록 하세요. \n",
    "\n",
    "'Book' 객체를 하나 생성하고, print 함수를 사용하여 해당 객체의 문자열 표현을 출력하세요."
   ]
  },
  {
   "cell_type": "markdown",
   "metadata": {},
   "source": []
  }
 ],
 "metadata": {
  "language_info": {
   "name": "python"
  }
 },
 "nbformat": 4,
 "nbformat_minor": 2
}

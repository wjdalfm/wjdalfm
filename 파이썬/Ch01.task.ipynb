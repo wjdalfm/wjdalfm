{
 "cells": [
  {
   "cell_type": "markdown",
   "metadata": {},
   "source": [
    "<span style=\"font-size:100%\">\n",
    "\n",
    "수업은 모두 열심히 들으셨나요?\n",
    "\n",
    "간혹 강의에서 언급되지 않은 내용이 문제로 나올 수 있습니다.<br>\n",
    "그럴땐 강의 내용 외 문제는 구글링을 통해 해결해주세요<br></span>\n",
    "<span style=\"font-size:80%\">\n",
    "(구글링 또한 개발자가 갖쳐야할 역량 중에 하나랍니다 😊)\n",
    "</span>\n",
    "\n",
    "---"
   ]
  },
  {
   "cell_type": "markdown",
   "metadata": {},
   "source": [
    "<span style=\"font-size:80%\">[문제1]<br><br></span>\n",
    "```인터프리트 방식에 대해 설명하고 2개 이상의 장점을 설명해주세요```"
   ]
  },
  {
   "cell_type": "markdown",
   "metadata": {},
   "source": [
    "<span style=\"color:red\">답변</span>  \n",
    "1. 디버깅이 용이하다. (인터프리트 방식은 한줄씩 번역한다음, 실행이 이루어 지기에 실행속도가 느리다. 하지만 그 양이 적을 경우 속도의 차이는 적다. 번역이 빠르다.)\n",
    "2. 코드를 직접 실행하는 방식이라서 플랫폼에 구애를 받지 않는다."
   ]
  },
  {
   "cell_type": "markdown",
   "metadata": {},
   "source": []
  },
  {
   "cell_type": "markdown",
   "metadata": {},
   "source": [
    "---"
   ]
  },
  {
   "cell_type": "markdown",
   "metadata": {},
   "source": [
    "<span style=\"font-size:80%\">[문제2]<br><br></span>\n",
    "```동적 타입 방식의 장점과 단점을 간략히 설명해주세요```"
   ]
  },
  {
   "cell_type": "markdown",
   "metadata": {},
   "source": [
    "<span style=\"color:red\">답변</span>\n",
    "\n",
    "장점: 유연성이 높다, 변동에 자유롭고 효율적이다. (코드 작성 시 용도의 제한이 없기 때문)\n",
    "단점: 프로그램의 실행때 용도의 문제를 확인할 수 있기 때문에 코드가 길고, 복잡할 경우 문제의 해결이 쉽지 않다는 단점이 있다.\n"
   ]
  },
  {
   "cell_type": "markdown",
   "metadata": {},
   "source": []
  },
  {
   "cell_type": "markdown",
   "metadata": {},
   "source": [
    "---"
   ]
  },
  {
   "cell_type": "markdown",
   "metadata": {},
   "source": [
    "<span style=\"font-size:80%\">[문제3]<br><br></span>\n",
    "```Python으로 정적타입 방식의 코드를 작성할 수 있는 방법을 구글링을 통해 검색 후 설명해주세요```"
   ]
  },
  {
   "cell_type": "markdown",
   "metadata": {},
   "source": [
    "<span style=\"color:red\">답변</span>  \n",
    "\n",
    "1.변수의 타입을 표시한다\n",
    "2.코딩의 유형을 사용한다.\n",
    "3.mypy 라이브러리를 사용하여 타입의 오류 미리 찾아내기"
   ]
  },
  {
   "cell_type": "markdown",
   "metadata": {},
   "source": []
  },
  {
   "cell_type": "markdown",
   "metadata": {},
   "source": [
    "---"
   ]
  },
  {
   "cell_type": "markdown",
   "metadata": {},
   "source": [
    "<span style=\"font-size:80%\">[문제4]<br><br></span>\n",
    "```프로세스와 스레드의 차이점을 설명해주세요```"
   ]
  },
  {
   "cell_type": "markdown",
   "metadata": {},
   "source": [
    "<span style=\"color:red\">답변</span>\n",
    "\n",
    "오류 발생시 독립적으로 작업을 해야하거나, 격리가 필요할 경우에는 프로세스를 사용하고. 공유나 통신이 필요한 경우에는 스레드를 사용한다."
   ]
  },
  {
   "cell_type": "markdown",
   "metadata": {},
   "source": []
  },
  {
   "cell_type": "markdown",
   "metadata": {},
   "source": [
    "---"
   ]
  },
  {
   "cell_type": "markdown",
   "metadata": {},
   "source": [
    "<span style=\"font-size:80%\">[문제5]<br><br></span>\n",
    "```Python 2버전대와 3버전대의 차이를 성명해주세요```"
   ]
  },
  {
   "cell_type": "markdown",
   "metadata": {},
   "source": [
    "<span style=\"color:red\">답변</span>\n",
    "\n",
    "문법이 다르다.(파이썬3에서는 괄호를 사용한다) 그리고 계산의 결과값이 정수가 아닌 실수로 계산되어 나온다."
   ]
  },
  {
   "cell_type": "markdown",
   "metadata": {},
   "source": []
  },
  {
   "cell_type": "markdown",
   "metadata": {},
   "source": [
    "---"
   ]
  },
  {
   "cell_type": "markdown",
   "metadata": {},
   "source": [
    "<span style=\"font-size:80%\">[문제6]<br><br></span>\n",
    "```Python에서 메모리 관리는 어떻게 이루어지는지 설명해주세요```"
   ]
  },
  {
   "cell_type": "markdown",
   "metadata": {},
   "source": [
    "<span style=\"color:red\">답변</span>\n",
    "\n",
    "1. **참조 카운팅(Reference Counting):** 파이썬의 모든 객체는 참조 카운트를 가지고 있습니다. 이는 해당 객체를 참조하는 다른 객체의 수를 나타냅니다. 예를 들어, 어떤 객체를 변수에 할당하거나 리스트에 추가하면 해당 객체의 참조 카운트가 증가합니다. 반대로 객체의 참조를 제거하면 참조 카운트가 감소합니다. 참조 카운트가 0이 되면, 즉 객체를 참조하는 것이 없게 되면, 그 객체는 메모리에서 해제됩니다.\n",
    "\n",
    "2. **가비지 컬렉션(Garbage Collection):** 파이썬의 가비지 컬렉션은 주로 순환 참조(Circular Reference)를 처리하기 위해 사용됩니다. 순환 참조란 서로가 서로를 참조하는 상황을 말하며, 이런 경우에는 참조 카운트가 0이 되지 않아 메모리에서 해제되지 않는 문제가 발생할 수 있습니다. 파이썬의 가비지 컬렉터는 이런 순환 참조를 탐지하고 처리하여, 더 이상 사용되지 않는 객체를 메모리에서 해제합니다"
   ]
  },
  {
   "cell_type": "markdown",
   "metadata": {},
   "source": []
  }
 ],
 "metadata": {
  "language_info": {
   "name": "python"
  }
 },
 "nbformat": 4,
 "nbformat_minor": 2
}
